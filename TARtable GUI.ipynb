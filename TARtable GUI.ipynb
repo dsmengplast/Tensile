{
 "cells": [
  {
   "cell_type": "code",
   "execution_count": null,
   "metadata": {
    "scrolled": true
   },
   "outputs": [
    {
     "name": "stdout",
     "output_type": "stream",
     "text": [
      "O:/Tech_Service/Analytical - New/Analytical/TAR Data/2019/19-0075 Spec. development GMMPD for Akulon K-FKG3 BK00001- Deans 3-19-2019/python files\n"
     ]
    }
   ],
   "source": [
    "from tkinter import *\n",
    "from tkinter import filedialog\n",
    "import os\n",
    "import Tensile_Table\n",
    "\n",
    "def sel():\n",
    "   selection = \"You selected the option \" + str(var.get())\n",
    "   \n",
    "def browse_folder():\n",
    "    global filename\n",
    "    filename = filedialog.askdirectory()\n",
    "    folder_label.configure(text = \"Files will be saved to: \" + str(filename))\n",
    "    print(filename)\n",
    "    return filename\n",
    "    \n",
    "\n",
    "filenames = []\n",
    "def select_files():\n",
    "    filename = filedialog.askopenfilenames()\n",
    "    for item in filename:\n",
    "        lb1.insert(END, item)\n",
    "        filenames.append(item)\n",
    "\n",
    "def make_table():\n",
    "    os.chdir(filename)\n",
    "    Tensile_Table.TARtable(filenames)\n",
    "    \n",
    "\n",
    "root = Tk()\n",
    "root.title('TAR Table Generator')\n",
    "var = StringVar()\n",
    "\n",
    "label1 = Label(root, text = \"Would you like to report properties at break or yield?\").pack()\n",
    "R1 = Radiobutton(root, text=\"Break Properties\", variable=var, value='Break Properties',\n",
    "                      command=sel, tristatevalue = 0)\n",
    "R1.pack( anchor = W )\n",
    "R2 = Radiobutton(root, text=\"Yield Properties\", variable=var, value='Yield Properties',\n",
    "                      command=sel, tristatevalue = 0)\n",
    "R2.pack( anchor = W )\n",
    "\n",
    "label2 = Label(root, text = 'Please select a folder to save files in').pack()\n",
    "button1 = Button(root, text = 'Browse', command = browse_folder).pack()\n",
    "folder_label = Label(root)\n",
    "folder_label.pack()\n",
    "\n",
    "\n",
    "file_label = Label(root, text = 'Browse For Source Files').pack()\n",
    "lb1 = Listbox(root)\n",
    "lb1.pack()\n",
    "button2 = Button(root, text = 'Select Files', command = select_files).pack()\n",
    "\n",
    "button3 = Button(root, text = 'Make Table', command = make_table).pack()\n",
    "\n",
    "\n",
    "root.mainloop()"
   ]
  },
  {
   "cell_type": "code",
   "execution_count": null,
   "metadata": {},
   "outputs": [],
   "source": []
  }
 ],
 "metadata": {
  "kernelspec": {
   "display_name": "Python 3",
   "language": "python",
   "name": "python3"
  },
  "language_info": {
   "codemirror_mode": {
    "name": "ipython",
    "version": 3
   },
   "file_extension": ".py",
   "mimetype": "text/x-python",
   "name": "python",
   "nbconvert_exporter": "python",
   "pygments_lexer": "ipython3",
   "version": "3.6.5"
  }
 },
 "nbformat": 4,
 "nbformat_minor": 2
}
